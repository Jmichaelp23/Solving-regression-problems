{
 "cells": [
  {
   "cell_type": "markdown",
   "metadata": {},
   "source": [
    "1. This is a regression task. Because the target variable - per capita income is a continoous variable."
   ]
  },
  {
   "cell_type": "markdown",
   "metadata": {},
   "source": [
    "2. False, OLS is not a type of model but an optimization algorithm.\n",
    "   False, even if a model doesnt meet some assumptions, there are ways to fix this up.\n",
    "   False, estimation refers to the process of determining the coefficients of the features in the training phase. Prediction is to determine the value of the outcome variable using a previously unseen feature value.\n",
    "   True."
   ]
  },
  {
   "cell_type": "markdown",
   "metadata": {},
   "source": [
    "3. This is an open ended question. Student should discuss his/her answer with his/her mentor. But here is a simple example:\n",
    "𝑡𝑜𝑡𝑎𝑙𝑒𝑥𝑝𝑒𝑛𝑑𝑖𝑡𝑢𝑟𝑒=𝛼+𝛽1 𝑋 𝑑𝑢𝑚𝑚𝑦 𝑜𝑓 𝑢𝑠𝑖𝑛𝑔 𝑓𝑟𝑒𝑒𝑠𝑒𝑟𝑣𝑖𝑐𝑒1 + 𝛽2 𝑋 𝑑𝑢𝑚𝑚𝑦 𝑜𝑓 𝑢𝑠𝑖𝑛𝑔 𝑓𝑟𝑒𝑒𝑠𝑒𝑟𝑣𝑖𝑐𝑒2 "
   ]
  },
  {
   "cell_type": "code",
   "execution_count": null,
   "metadata": {},
   "outputs": [],
   "source": []
  }
 ],
 "metadata": {
  "kernelspec": {
   "display_name": "Python 3",
   "language": "python",
   "name": "python3"
  },
  "language_info": {
   "codemirror_mode": {
    "name": "ipython",
    "version": 3
   },
   "file_extension": ".py",
   "mimetype": "text/x-python",
   "name": "python",
   "nbconvert_exporter": "python",
   "pygments_lexer": "ipython3",
   "version": "3.7.3"
  }
 },
 "nbformat": 4,
 "nbformat_minor": 2
}
